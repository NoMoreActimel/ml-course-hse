{
  "cells": [
    {
      "cell_type": "markdown",
      "metadata": {
        "id": "eiyJC0eUfxqG"
      },
      "source": [
        "# Машинное обучение, ФКН ВШЭ\n",
        "\n",
        "## Практическое задание 2. Exploratory Data Analysis и линейная регрессия\n",
        "\n",
        "### Общая информация\n",
        "Дата выдачи: 25.09.2022\n",
        "\n",
        "Мягкий дедлайн: 23:59MSK 10.10.2022\n",
        "\n",
        "Жесткий дедлайн: 23:59MSK 18.10.2022"
      ]
    },
    {
      "cell_type": "markdown",
      "metadata": {
        "id": "c845gDc7fxqJ"
      },
      "source": [
        "### О задании\n",
        "В этом задании мы попытаемся научиться анализировать данные и выделять из них полезные признаки. Мы также научимся пользоваться `seaborn` и `sklearn`, а заодно привыкнем к основным понятиям машинного обучения.\n",
        "\n",
        "### Оценивание и штрафы\n",
        "Каждая из задач имеет определенную «стоимость» (указана в скобках около задачи). Максимально допустимая оценка за работу — 10 баллов. Проверяющий имеет право снизить оценку за неэффективную реализацию или неопрятные графики.\n",
        "\n",
        "**Обратите внимание**, что в каждом разделе домашнего задания есть оцениваниемые задачи и есть вопросы. Вопросы дополняют задачи и направлены на то, чтобы проинтерпретировать или обосновать происходящее. Код без интерпретации не имеет смысла, поэтому отвечать на вопросы обязательно — за отсутствие ответов мы будем снижать баллы за задачи. Если вы ответите на вопросы, но не напишете корректный код к соответствующим оцениваемым задачам, то баллы за такое выставлены не будут.\n",
        "\n",
        "Сдавать задание после указанного срока сдачи нельзя. При выставлении неполного балла за задание в связи с наличием ошибок на усмотрение проверяющего предусмотрена возможность исправить работу на указанных в ответном письме условиях.\n",
        "\n",
        "Задание выполняется самостоятельно. «Похожие» решения считаются плагиатом и все задействованные студенты (в том числе те, у кого списали) не могут получить за него больше 0 баллов (подробнее о плагиате см. на странице курса). Если вы нашли решение какого-то из заданий (или его часть) в открытом источнике, необходимо указать ссылку на этот источник в отдельном блоке в конце вашей работы (скорее всего вы будете не единственным, кто это нашел, поэтому чтобы исключить подозрение в плагиате, необходима ссылка на источник).\n",
        "\n",
        "### Формат сдачи\n",
        "Задания сдаются через систему Anytask. Инвайт можно найти на странице курса. Присылать необходимо ноутбук с выполненным заданием. Сам ноутбук называйте в формате homework-practice-02-linregr-Username.ipynb, где Username — ваша фамилия.\n",
        "\n",
        "Для удобства проверки самостоятельно посчитайте свою максимальную оценку (исходя из набора решенных задач) и укажите ниже.\n",
        "\n",
        "Оценка: xx."
      ]
    },
    {
      "cell_type": "markdown",
      "metadata": {
        "id": "G_t9KM0cfxqM"
      },
      "source": [
        "В этом ноутбуке используется библиотека `folium` для визуализации карт. Она работает в google colab!"
      ]
    },
    {
      "cell_type": "code",
      "execution_count": 1,
      "metadata": {
        "ExecuteTime": {
          "end_time": "2020-09-26T16:46:41.323933Z",
          "start_time": "2020-09-26T16:46:38.248043Z"
        },
        "id": "Im9PVRzrfxqO",
        "colab": {
          "base_uri": "https://localhost:8080/"
        },
        "outputId": "78ee8d51-ef7f-47bf-f9be-9bfc0d859882"
      },
      "outputs": [
        {
          "output_type": "stream",
          "name": "stdout",
          "text": [
            "Looking in indexes: https://pypi.org/simple, https://us-python.pkg.dev/colab-wheels/public/simple/\n",
            "Requirement already satisfied: folium in /usr/local/lib/python3.7/dist-packages (0.12.1.post1)\n",
            "Requirement already satisfied: branca>=0.3.0 in /usr/local/lib/python3.7/dist-packages (from folium) (0.5.0)\n",
            "Requirement already satisfied: numpy in /usr/local/lib/python3.7/dist-packages (from folium) (1.21.6)\n",
            "Requirement already satisfied: jinja2>=2.9 in /usr/local/lib/python3.7/dist-packages (from folium) (2.11.3)\n",
            "Requirement already satisfied: requests in /usr/local/lib/python3.7/dist-packages (from folium) (2.23.0)\n",
            "Requirement already satisfied: MarkupSafe>=0.23 in /usr/local/lib/python3.7/dist-packages (from jinja2>=2.9->folium) (2.0.1)\n",
            "Requirement already satisfied: idna<3,>=2.5 in /usr/local/lib/python3.7/dist-packages (from requests->folium) (2.10)\n",
            "Requirement already satisfied: urllib3!=1.25.0,!=1.25.1,<1.26,>=1.21.1 in /usr/local/lib/python3.7/dist-packages (from requests->folium) (1.24.3)\n",
            "Requirement already satisfied: chardet<4,>=3.0.2 in /usr/local/lib/python3.7/dist-packages (from requests->folium) (3.0.4)\n",
            "Requirement already satisfied: certifi>=2017.4.17 in /usr/local/lib/python3.7/dist-packages (from requests->folium) (2022.6.15)\n"
          ]
        }
      ],
      "source": [
        "!pip install folium"
      ]
    },
    {
      "cell_type": "code",
      "execution_count": 2,
      "metadata": {
        "ExecuteTime": {
          "end_time": "2020-09-26T16:54:29.903693Z",
          "start_time": "2020-09-26T16:54:29.891068Z"
        },
        "scrolled": false,
        "id": "JpO2BhEFfxqQ",
        "colab": {
          "base_uri": "https://localhost:8080/",
          "height": 504
        },
        "outputId": "6de4eb46-dda3-4346-848f-70961f642640"
      },
      "outputs": [
        {
          "output_type": "execute_result",
          "data": {
            "text/plain": [
              "<folium.folium.Map at 0x7f4c0d0a2390>"
            ],
            "text/html": [
              "<div style=\"width:100%;\"><div style=\"position:relative;width:100%;height:0;padding-bottom:60%;\"><span style=\"color:#565656\">Make this Notebook Trusted to load map: File -> Trust Notebook</span><iframe srcdoc=\"&lt;!DOCTYPE html&gt;\n",
              "&lt;head&gt;    \n",
              "    &lt;meta http-equiv=&quot;content-type&quot; content=&quot;text/html; charset=UTF-8&quot; /&gt;\n",
              "    \n",
              "        &lt;script&gt;\n",
              "            L_NO_TOUCH = false;\n",
              "            L_DISABLE_3D = false;\n",
              "        &lt;/script&gt;\n",
              "    \n",
              "    &lt;style&gt;html, body {width: 100%;height: 100%;margin: 0;padding: 0;}&lt;/style&gt;\n",
              "    &lt;style&gt;#map {position:absolute;top:0;bottom:0;right:0;left:0;}&lt;/style&gt;\n",
              "    &lt;script src=&quot;https://cdn.jsdelivr.net/npm/leaflet@1.6.0/dist/leaflet.js&quot;&gt;&lt;/script&gt;\n",
              "    &lt;script src=&quot;https://code.jquery.com/jquery-1.12.4.min.js&quot;&gt;&lt;/script&gt;\n",
              "    &lt;script src=&quot;https://maxcdn.bootstrapcdn.com/bootstrap/3.2.0/js/bootstrap.min.js&quot;&gt;&lt;/script&gt;\n",
              "    &lt;script src=&quot;https://cdnjs.cloudflare.com/ajax/libs/Leaflet.awesome-markers/2.0.2/leaflet.awesome-markers.js&quot;&gt;&lt;/script&gt;\n",
              "    &lt;link rel=&quot;stylesheet&quot; href=&quot;https://cdn.jsdelivr.net/npm/leaflet@1.6.0/dist/leaflet.css&quot;/&gt;\n",
              "    &lt;link rel=&quot;stylesheet&quot; href=&quot;https://maxcdn.bootstrapcdn.com/bootstrap/3.2.0/css/bootstrap.min.css&quot;/&gt;\n",
              "    &lt;link rel=&quot;stylesheet&quot; href=&quot;https://maxcdn.bootstrapcdn.com/bootstrap/3.2.0/css/bootstrap-theme.min.css&quot;/&gt;\n",
              "    &lt;link rel=&quot;stylesheet&quot; href=&quot;https://maxcdn.bootstrapcdn.com/font-awesome/4.6.3/css/font-awesome.min.css&quot;/&gt;\n",
              "    &lt;link rel=&quot;stylesheet&quot; href=&quot;https://cdnjs.cloudflare.com/ajax/libs/Leaflet.awesome-markers/2.0.2/leaflet.awesome-markers.css&quot;/&gt;\n",
              "    &lt;link rel=&quot;stylesheet&quot; href=&quot;https://cdn.jsdelivr.net/gh/python-visualization/folium/folium/templates/leaflet.awesome.rotate.min.css&quot;/&gt;\n",
              "    \n",
              "            &lt;meta name=&quot;viewport&quot; content=&quot;width=device-width,\n",
              "                initial-scale=1.0, maximum-scale=1.0, user-scalable=no&quot; /&gt;\n",
              "            &lt;style&gt;\n",
              "                #map_5d2a41e6a1fc8f3f2bf40c566a9e27ec {\n",
              "                    position: relative;\n",
              "                    width: 100.0%;\n",
              "                    height: 100.0%;\n",
              "                    left: 0.0%;\n",
              "                    top: 0.0%;\n",
              "                }\n",
              "            &lt;/style&gt;\n",
              "        \n",
              "&lt;/head&gt;\n",
              "&lt;body&gt;    \n",
              "    \n",
              "            &lt;div class=&quot;folium-map&quot; id=&quot;map_5d2a41e6a1fc8f3f2bf40c566a9e27ec&quot; &gt;&lt;/div&gt;\n",
              "        \n",
              "&lt;/body&gt;\n",
              "&lt;script&gt;    \n",
              "    \n",
              "            var map_5d2a41e6a1fc8f3f2bf40c566a9e27ec = L.map(\n",
              "                &quot;map_5d2a41e6a1fc8f3f2bf40c566a9e27ec&quot;,\n",
              "                {\n",
              "                    center: [55.75222, 37.61556],\n",
              "                    crs: L.CRS.EPSG3857,\n",
              "                    zoom: 10,\n",
              "                    zoomControl: true,\n",
              "                    preferCanvas: false,\n",
              "                }\n",
              "            );\n",
              "\n",
              "            \n",
              "\n",
              "        \n",
              "    \n",
              "            var tile_layer_c29b252412004a1de63025cd659773cf = L.tileLayer(\n",
              "                &quot;https://{s}.tile.openstreetmap.org/{z}/{x}/{y}.png&quot;,\n",
              "                {&quot;attribution&quot;: &quot;Data by \\u0026copy; \\u003ca href=\\&quot;http://openstreetmap.org\\&quot;\\u003eOpenStreetMap\\u003c/a\\u003e, under \\u003ca href=\\&quot;http://www.openstreetmap.org/copyright\\&quot;\\u003eODbL\\u003c/a\\u003e.&quot;, &quot;detectRetina&quot;: false, &quot;maxNativeZoom&quot;: 18, &quot;maxZoom&quot;: 18, &quot;minZoom&quot;: 0, &quot;noWrap&quot;: false, &quot;opacity&quot;: 1, &quot;subdomains&quot;: &quot;abc&quot;, &quot;tms&quot;: false}\n",
              "            ).addTo(map_5d2a41e6a1fc8f3f2bf40c566a9e27ec);\n",
              "        \n",
              "&lt;/script&gt;\" style=\"position:absolute;width:100%;height:100%;left:0;top:0;border:none !important;\" allowfullscreen webkitallowfullscreen mozallowfullscreen></iframe></div></div>"
            ]
          },
          "metadata": {},
          "execution_count": 2
        }
      ],
      "source": [
        "import folium\n",
        "\n",
        "m = folium.Map(location=(55.7522200, 37.6155600), zoom_start=10)\n",
        "\n",
        "m"
      ]
    },
    {
      "cell_type": "markdown",
      "metadata": {
        "id": "Rirql6BmfxqR"
      },
      "source": [
        "Если вы всё сделали правильно, то выше должна открыться карта Москвы."
      ]
    },
    {
      "cell_type": "code",
      "execution_count": 3,
      "metadata": {
        "ExecuteTime": {
          "end_time": "2020-09-26T16:48:20.566549Z",
          "start_time": "2020-09-26T16:48:19.893995Z"
        },
        "id": "7-JhUwmIfxqS"
      },
      "outputs": [],
      "source": [
        "import pandas as pd\n",
        "import numpy as np\n",
        "import matplotlib.pyplot as plt\n",
        "import seaborn as sns\n",
        "\n",
        "%matplotlib inline\n",
        "\n",
        "sns.set(style=\"darkgrid\")"
      ]
    },
    {
      "cell_type": "markdown",
      "metadata": {
        "id": "QjOgZ44kfxqT"
      },
      "source": [
        "## Часть 0. Подготовка (1 балл)"
      ]
    },
    {
      "cell_type": "markdown",
      "metadata": {
        "id": "HrCT4CavfxqU"
      },
      "source": [
        "**Задание 1 (1 балл)**. Мы будем работать с данными из соревнования [New York City Taxi Trip Duration](https://www.kaggle.com/c/nyc-taxi-trip-duration/overview), в котором нужно было предсказать длительность поездки на такси. Скачайте обучающую выборку из этого соревнования и загрузите ее:"
      ]
    },
    {
      "cell_type": "code",
      "execution_count": 4,
      "metadata": {
        "ExecuteTime": {
          "end_time": "2020-09-26T17:03:41.260445Z",
          "start_time": "2020-09-26T17:03:37.878813Z"
        },
        "id": "xUumOduzfxqX",
        "colab": {
          "base_uri": "https://localhost:8080/"
        },
        "outputId": "c1aa81ab-cc0c-4e66-8dfb-bf9041aff4e7"
      },
      "outputs": [
        {
          "output_type": "stream",
          "name": "stdout",
          "text": [
            "ref                                                            title                                                size  lastUpdated          downloadCount  voteCount  usabilityRating  \n",
            "-------------------------------------------------------------  --------------------------------------------------  -----  -------------------  -------------  ---------  ---------------  \n",
            "iamsouravbanerjee/world-population-dataset                     World Population Dataset                             17KB  2022-08-31 11:20:04          11878        351  1.0              \n",
            "pantanjali/unemployment-dataset                                Unemployment dataset                                 17KB  2022-09-08 08:26:10           3774         99  1.0              \n",
            "harshsingh2209/tesla-stock-pricing-20172022                    TESLA stock pricing (2017-2022)                      28KB  2022-09-18 14:56:29            788         28  1.0              \n",
            "thedevastator/airplane-crashes-and-fatalities                  Airplane Crashes and Fatalities                     582KB  2022-09-20 05:30:35           1152         42  0.9411765        \n",
            "whenamancodes/student-performance                              Student Performance                                  18KB  2022-09-15 01:15:37           1587         40  1.0              \n",
            "ariyoomotade/netflix-data-cleaning-analysis-and-visualization  Netflix Data: Cleaning, Analysis and Visualization  270KB  2022-08-26 09:25:43           6062        139  1.0              \n",
            "whenamancodes/students-performance-in-exams                    Students Performance in Exams                         9KB  2022-09-14 15:14:54           1831         46  1.0              \n",
            "whenamancodes/violence-against-women-girls                     Violence Against Women & Girls                       88KB  2022-09-12 08:46:49            834         36  1.0              \n",
            "whenamancodes/popular-movies-datasets-58000-movies             Popular Movies Datasets - 58098 Movies              272MB  2022-09-12 12:19:14           1236         29  0.9411765        \n",
            "alexandrepetit881234/korean-demographics-20002022              Korean demographics 2000-2022                       101KB  2022-09-15 11:59:31            485         28  1.0              \n",
            "whenamancodes/world-population-live-dataset                    World Population Live Dataset 2022                   10KB  2022-09-10 11:29:21           1641         55  1.0              \n",
            "whenamancodes/netflix-prime-video-disney-hulu                  Netflix Disney+ Prime Video Hulu Shows Collection   101KB  2022-09-13 09:05:20           1051         29  1.0              \n",
            "thedevastator/mcdonalds-ice-cream-machines-broken-timeseries   McDonalds Ice Cream Machines Breaking - Timeseries  404KB  2022-09-14 23:51:09           1196         42  1.0              \n",
            "deepcontractor/smoke-detection-dataset                         Smoke Detection Dataset                               2MB  2022-08-21 06:29:34           3690        105  1.0              \n",
            "thedevastator/weather-prediction                               Weather Prediction                                  936KB  2022-09-06 12:07:29            769         28  0.9705882        \n",
            "cashncarry/fifa-23-complete-player-dataset                     FIFA 23 Complete Player Dataset [UPD:29/09/22]        2MB  2022-09-29 19:34:27            408         24  0.88235295       \n",
            "whenamancodes/data-science-fields-salary-categorization        Data Science Fields Salary Categorization             7KB  2022-09-10 07:53:45           1136         42  1.0              \n",
            "moazzimalibhatti/co2-emission-by-countries-year-wise-17502022  CO2 Emission by countries Year wise (1750-2022)     280KB  2022-09-14 07:43:00            970         53  1.0              \n",
            "sergylog/ab-test-data                                          A/B test data                                        28KB  2022-09-16 17:29:06            513         89  1.0              \n",
            "advaypatil/youtube-statistics                                  Youtube Statistics                                    2MB  2022-08-26 02:03:19           2707         74  1.0              \n"
          ]
        }
      ],
      "source": [
        "#╰( ͡° ͜ʖ ͡° )つ──☆*:・ﾟ\n",
        "!pip install -q kaggle\n",
        "!mkdir -p ~/.kaggle \n",
        "!cp kaggle.json ~/.kaggle/\n",
        "!chmod 600 ~/.kaggle/kaggle.json\n",
        "!kaggle datasets list"
      ]
    },
    {
      "cell_type": "code",
      "source": [
        "!kaggle competitions download -c nyc-taxi-trip-duration"
      ],
      "metadata": {
        "colab": {
          "base_uri": "https://localhost:8080/"
        },
        "id": "qdmYsrWjDhHJ",
        "outputId": "ee2dbeda-c65b-4ca1-cbaf-621fa1b666e5"
      },
      "execution_count": 5,
      "outputs": [
        {
          "output_type": "stream",
          "name": "stdout",
          "text": [
            "Downloading nyc-taxi-trip-duration.zip to /content\n",
            " 85% 73.0M/85.8M [00:02<00:00, 39.1MB/s]\n",
            "100% 85.8M/85.8M [00:02<00:00, 43.2MB/s]\n"
          ]
        }
      ]
    },
    {
      "cell_type": "code",
      "source": [
        "!mkdir -p nyc-taxi-trip-duration\n",
        "!unzip nyc-taxi-trip-duration.zip -d nyc-taxi-trip-duration"
      ],
      "metadata": {
        "colab": {
          "base_uri": "https://localhost:8080/"
        },
        "id": "A_4K5tjSKeM8",
        "outputId": "757fed74-985c-4580-a5d4-d856512a662f"
      },
      "execution_count": 6,
      "outputs": [
        {
          "output_type": "stream",
          "name": "stdout",
          "text": [
            "Archive:  nyc-taxi-trip-duration.zip\n",
            "  inflating: nyc-taxi-trip-duration/sample_submission.zip  \n",
            "  inflating: nyc-taxi-trip-duration/test.zip  \n",
            "  inflating: nyc-taxi-trip-duration/train.zip  \n"
          ]
        }
      ]
    },
    {
      "cell_type": "code",
      "source": [
        "df_train = pd.read_csv('nyc-taxi-trip-duration/train.zip')"
      ],
      "metadata": {
        "id": "FJ-5aVOyEYxV"
      },
      "execution_count": 7,
      "outputs": []
    },
    {
      "cell_type": "code",
      "source": [
        "df_train"
      ],
      "metadata": {
        "colab": {
          "base_uri": "https://localhost:8080/",
          "height": 661
        },
        "id": "0DrtjqE1D3dB",
        "outputId": "61a1a45f-db39-489a-c668-603d03b14ddc"
      },
      "execution_count": 8,
      "outputs": [
        {
          "output_type": "execute_result",
          "data": {
            "text/plain": [
              "                id  vendor_id      pickup_datetime     dropoff_datetime  \\\n",
              "0        id2875421          2  2016-03-14 17:24:55  2016-03-14 17:32:30   \n",
              "1        id2377394          1  2016-06-12 00:43:35  2016-06-12 00:54:38   \n",
              "2        id3858529          2  2016-01-19 11:35:24  2016-01-19 12:10:48   \n",
              "3        id3504673          2  2016-04-06 19:32:31  2016-04-06 19:39:40   \n",
              "4        id2181028          2  2016-03-26 13:30:55  2016-03-26 13:38:10   \n",
              "...            ...        ...                  ...                  ...   \n",
              "1458639  id2376096          2  2016-04-08 13:31:04  2016-04-08 13:44:02   \n",
              "1458640  id1049543          1  2016-01-10 07:35:15  2016-01-10 07:46:10   \n",
              "1458641  id2304944          2  2016-04-22 06:57:41  2016-04-22 07:10:25   \n",
              "1458642  id2714485          1  2016-01-05 15:56:26  2016-01-05 16:02:39   \n",
              "1458643  id1209952          1  2016-04-05 14:44:25  2016-04-05 14:47:43   \n",
              "\n",
              "         passenger_count  pickup_longitude  pickup_latitude  \\\n",
              "0                      1        -73.982155        40.767937   \n",
              "1                      1        -73.980415        40.738564   \n",
              "2                      1        -73.979027        40.763939   \n",
              "3                      1        -74.010040        40.719971   \n",
              "4                      1        -73.973053        40.793209   \n",
              "...                  ...               ...              ...   \n",
              "1458639                4        -73.982201        40.745522   \n",
              "1458640                1        -74.000946        40.747379   \n",
              "1458641                1        -73.959129        40.768799   \n",
              "1458642                1        -73.982079        40.749062   \n",
              "1458643                1        -73.979538        40.781750   \n",
              "\n",
              "         dropoff_longitude  dropoff_latitude store_and_fwd_flag  trip_duration  \n",
              "0               -73.964630         40.765602                  N            455  \n",
              "1               -73.999481         40.731152                  N            663  \n",
              "2               -74.005333         40.710087                  N           2124  \n",
              "3               -74.012268         40.706718                  N            429  \n",
              "4               -73.972923         40.782520                  N            435  \n",
              "...                    ...               ...                ...            ...  \n",
              "1458639         -73.994911         40.740170                  N            778  \n",
              "1458640         -73.970184         40.796547                  N            655  \n",
              "1458641         -74.004433         40.707371                  N            764  \n",
              "1458642         -73.974632         40.757107                  N            373  \n",
              "1458643         -73.972809         40.790585                  N            198  \n",
              "\n",
              "[1458644 rows x 11 columns]"
            ],
            "text/html": [
              "\n",
              "  <div id=\"df-e634cd58-e713-46f1-af26-931dc91901a9\">\n",
              "    <div class=\"colab-df-container\">\n",
              "      <div>\n",
              "<style scoped>\n",
              "    .dataframe tbody tr th:only-of-type {\n",
              "        vertical-align: middle;\n",
              "    }\n",
              "\n",
              "    .dataframe tbody tr th {\n",
              "        vertical-align: top;\n",
              "    }\n",
              "\n",
              "    .dataframe thead th {\n",
              "        text-align: right;\n",
              "    }\n",
              "</style>\n",
              "<table border=\"1\" class=\"dataframe\">\n",
              "  <thead>\n",
              "    <tr style=\"text-align: right;\">\n",
              "      <th></th>\n",
              "      <th>id</th>\n",
              "      <th>vendor_id</th>\n",
              "      <th>pickup_datetime</th>\n",
              "      <th>dropoff_datetime</th>\n",
              "      <th>passenger_count</th>\n",
              "      <th>pickup_longitude</th>\n",
              "      <th>pickup_latitude</th>\n",
              "      <th>dropoff_longitude</th>\n",
              "      <th>dropoff_latitude</th>\n",
              "      <th>store_and_fwd_flag</th>\n",
              "      <th>trip_duration</th>\n",
              "    </tr>\n",
              "  </thead>\n",
              "  <tbody>\n",
              "    <tr>\n",
              "      <th>0</th>\n",
              "      <td>id2875421</td>\n",
              "      <td>2</td>\n",
              "      <td>2016-03-14 17:24:55</td>\n",
              "      <td>2016-03-14 17:32:30</td>\n",
              "      <td>1</td>\n",
              "      <td>-73.982155</td>\n",
              "      <td>40.767937</td>\n",
              "      <td>-73.964630</td>\n",
              "      <td>40.765602</td>\n",
              "      <td>N</td>\n",
              "      <td>455</td>\n",
              "    </tr>\n",
              "    <tr>\n",
              "      <th>1</th>\n",
              "      <td>id2377394</td>\n",
              "      <td>1</td>\n",
              "      <td>2016-06-12 00:43:35</td>\n",
              "      <td>2016-06-12 00:54:38</td>\n",
              "      <td>1</td>\n",
              "      <td>-73.980415</td>\n",
              "      <td>40.738564</td>\n",
              "      <td>-73.999481</td>\n",
              "      <td>40.731152</td>\n",
              "      <td>N</td>\n",
              "      <td>663</td>\n",
              "    </tr>\n",
              "    <tr>\n",
              "      <th>2</th>\n",
              "      <td>id3858529</td>\n",
              "      <td>2</td>\n",
              "      <td>2016-01-19 11:35:24</td>\n",
              "      <td>2016-01-19 12:10:48</td>\n",
              "      <td>1</td>\n",
              "      <td>-73.979027</td>\n",
              "      <td>40.763939</td>\n",
              "      <td>-74.005333</td>\n",
              "      <td>40.710087</td>\n",
              "      <td>N</td>\n",
              "      <td>2124</td>\n",
              "    </tr>\n",
              "    <tr>\n",
              "      <th>3</th>\n",
              "      <td>id3504673</td>\n",
              "      <td>2</td>\n",
              "      <td>2016-04-06 19:32:31</td>\n",
              "      <td>2016-04-06 19:39:40</td>\n",
              "      <td>1</td>\n",
              "      <td>-74.010040</td>\n",
              "      <td>40.719971</td>\n",
              "      <td>-74.012268</td>\n",
              "      <td>40.706718</td>\n",
              "      <td>N</td>\n",
              "      <td>429</td>\n",
              "    </tr>\n",
              "    <tr>\n",
              "      <th>4</th>\n",
              "      <td>id2181028</td>\n",
              "      <td>2</td>\n",
              "      <td>2016-03-26 13:30:55</td>\n",
              "      <td>2016-03-26 13:38:10</td>\n",
              "      <td>1</td>\n",
              "      <td>-73.973053</td>\n",
              "      <td>40.793209</td>\n",
              "      <td>-73.972923</td>\n",
              "      <td>40.782520</td>\n",
              "      <td>N</td>\n",
              "      <td>435</td>\n",
              "    </tr>\n",
              "    <tr>\n",
              "      <th>...</th>\n",
              "      <td>...</td>\n",
              "      <td>...</td>\n",
              "      <td>...</td>\n",
              "      <td>...</td>\n",
              "      <td>...</td>\n",
              "      <td>...</td>\n",
              "      <td>...</td>\n",
              "      <td>...</td>\n",
              "      <td>...</td>\n",
              "      <td>...</td>\n",
              "      <td>...</td>\n",
              "    </tr>\n",
              "    <tr>\n",
              "      <th>1458639</th>\n",
              "      <td>id2376096</td>\n",
              "      <td>2</td>\n",
              "      <td>2016-04-08 13:31:04</td>\n",
              "      <td>2016-04-08 13:44:02</td>\n",
              "      <td>4</td>\n",
              "      <td>-73.982201</td>\n",
              "      <td>40.745522</td>\n",
              "      <td>-73.994911</td>\n",
              "      <td>40.740170</td>\n",
              "      <td>N</td>\n",
              "      <td>778</td>\n",
              "    </tr>\n",
              "    <tr>\n",
              "      <th>1458640</th>\n",
              "      <td>id1049543</td>\n",
              "      <td>1</td>\n",
              "      <td>2016-01-10 07:35:15</td>\n",
              "      <td>2016-01-10 07:46:10</td>\n",
              "      <td>1</td>\n",
              "      <td>-74.000946</td>\n",
              "      <td>40.747379</td>\n",
              "      <td>-73.970184</td>\n",
              "      <td>40.796547</td>\n",
              "      <td>N</td>\n",
              "      <td>655</td>\n",
              "    </tr>\n",
              "    <tr>\n",
              "      <th>1458641</th>\n",
              "      <td>id2304944</td>\n",
              "      <td>2</td>\n",
              "      <td>2016-04-22 06:57:41</td>\n",
              "      <td>2016-04-22 07:10:25</td>\n",
              "      <td>1</td>\n",
              "      <td>-73.959129</td>\n",
              "      <td>40.768799</td>\n",
              "      <td>-74.004433</td>\n",
              "      <td>40.707371</td>\n",
              "      <td>N</td>\n",
              "      <td>764</td>\n",
              "    </tr>\n",
              "    <tr>\n",
              "      <th>1458642</th>\n",
              "      <td>id2714485</td>\n",
              "      <td>1</td>\n",
              "      <td>2016-01-05 15:56:26</td>\n",
              "      <td>2016-01-05 16:02:39</td>\n",
              "      <td>1</td>\n",
              "      <td>-73.982079</td>\n",
              "      <td>40.749062</td>\n",
              "      <td>-73.974632</td>\n",
              "      <td>40.757107</td>\n",
              "      <td>N</td>\n",
              "      <td>373</td>\n",
              "    </tr>\n",
              "    <tr>\n",
              "      <th>1458643</th>\n",
              "      <td>id1209952</td>\n",
              "      <td>1</td>\n",
              "      <td>2016-04-05 14:44:25</td>\n",
              "      <td>2016-04-05 14:47:43</td>\n",
              "      <td>1</td>\n",
              "      <td>-73.979538</td>\n",
              "      <td>40.781750</td>\n",
              "      <td>-73.972809</td>\n",
              "      <td>40.790585</td>\n",
              "      <td>N</td>\n",
              "      <td>198</td>\n",
              "    </tr>\n",
              "  </tbody>\n",
              "</table>\n",
              "<p>1458644 rows × 11 columns</p>\n",
              "</div>\n",
              "      <button class=\"colab-df-convert\" onclick=\"convertToInteractive('df-e634cd58-e713-46f1-af26-931dc91901a9')\"\n",
              "              title=\"Convert this dataframe to an interactive table.\"\n",
              "              style=\"display:none;\">\n",
              "        \n",
              "  <svg xmlns=\"http://www.w3.org/2000/svg\" height=\"24px\"viewBox=\"0 0 24 24\"\n",
              "       width=\"24px\">\n",
              "    <path d=\"M0 0h24v24H0V0z\" fill=\"none\"/>\n",
              "    <path d=\"M18.56 5.44l.94 2.06.94-2.06 2.06-.94-2.06-.94-.94-2.06-.94 2.06-2.06.94zm-11 1L8.5 8.5l.94-2.06 2.06-.94-2.06-.94L8.5 2.5l-.94 2.06-2.06.94zm10 10l.94 2.06.94-2.06 2.06-.94-2.06-.94-.94-2.06-.94 2.06-2.06.94z\"/><path d=\"M17.41 7.96l-1.37-1.37c-.4-.4-.92-.59-1.43-.59-.52 0-1.04.2-1.43.59L10.3 9.45l-7.72 7.72c-.78.78-.78 2.05 0 2.83L4 21.41c.39.39.9.59 1.41.59.51 0 1.02-.2 1.41-.59l7.78-7.78 2.81-2.81c.8-.78.8-2.07 0-2.86zM5.41 20L4 18.59l7.72-7.72 1.47 1.35L5.41 20z\"/>\n",
              "  </svg>\n",
              "      </button>\n",
              "      \n",
              "  <style>\n",
              "    .colab-df-container {\n",
              "      display:flex;\n",
              "      flex-wrap:wrap;\n",
              "      gap: 12px;\n",
              "    }\n",
              "\n",
              "    .colab-df-convert {\n",
              "      background-color: #E8F0FE;\n",
              "      border: none;\n",
              "      border-radius: 50%;\n",
              "      cursor: pointer;\n",
              "      display: none;\n",
              "      fill: #1967D2;\n",
              "      height: 32px;\n",
              "      padding: 0 0 0 0;\n",
              "      width: 32px;\n",
              "    }\n",
              "\n",
              "    .colab-df-convert:hover {\n",
              "      background-color: #E2EBFA;\n",
              "      box-shadow: 0px 1px 2px rgba(60, 64, 67, 0.3), 0px 1px 3px 1px rgba(60, 64, 67, 0.15);\n",
              "      fill: #174EA6;\n",
              "    }\n",
              "\n",
              "    [theme=dark] .colab-df-convert {\n",
              "      background-color: #3B4455;\n",
              "      fill: #D2E3FC;\n",
              "    }\n",
              "\n",
              "    [theme=dark] .colab-df-convert:hover {\n",
              "      background-color: #434B5C;\n",
              "      box-shadow: 0px 1px 3px 1px rgba(0, 0, 0, 0.15);\n",
              "      filter: drop-shadow(0px 1px 2px rgba(0, 0, 0, 0.3));\n",
              "      fill: #FFFFFF;\n",
              "    }\n",
              "  </style>\n",
              "\n",
              "      <script>\n",
              "        const buttonEl =\n",
              "          document.querySelector('#df-e634cd58-e713-46f1-af26-931dc91901a9 button.colab-df-convert');\n",
              "        buttonEl.style.display =\n",
              "          google.colab.kernel.accessAllowed ? 'block' : 'none';\n",
              "\n",
              "        async function convertToInteractive(key) {\n",
              "          const element = document.querySelector('#df-e634cd58-e713-46f1-af26-931dc91901a9');\n",
              "          const dataTable =\n",
              "            await google.colab.kernel.invokeFunction('convertToInteractive',\n",
              "                                                     [key], {});\n",
              "          if (!dataTable) return;\n",
              "\n",
              "          const docLinkHtml = 'Like what you see? Visit the ' +\n",
              "            '<a target=\"_blank\" href=https://colab.research.google.com/notebooks/data_table.ipynb>data table notebook</a>'\n",
              "            + ' to learn more about interactive tables.';\n",
              "          element.innerHTML = '';\n",
              "          dataTable['output_type'] = 'display_data';\n",
              "          await google.colab.output.renderOutput(dataTable, element);\n",
              "          const docLink = document.createElement('div');\n",
              "          docLink.innerHTML = docLinkHtml;\n",
              "          element.appendChild(docLink);\n",
              "        }\n",
              "      </script>\n",
              "    </div>\n",
              "  </div>\n",
              "  "
            ]
          },
          "metadata": {},
          "execution_count": 8
        }
      ]
    },
    {
      "cell_type": "markdown",
      "metadata": {
        "id": "GSktiR47fxqY"
      },
      "source": [
        "Обратите внимание на колонки `pickup_datetime` и `dropoff_datetime`. `dropoff_datetime` был добавлена организаторами только в обучающую выборку, то есть использовать эту колонку нельзя, давайте удалим ее. В `pickup_datetime` записаны дата и время начала поездки. Чтобы с ней было удобно работать, давайте преобразуем даты в `datetime`-объекты"
      ]
    },
    {
      "cell_type": "code",
      "execution_count": 9,
      "metadata": {
        "id": "9u6xgapwfxqZ"
      },
      "outputs": [],
      "source": [
        "#╰( ͡° ͜ʖ ͡° )つ──☆*:・ﾟ\n",
        "df_train.drop(labels='dropoff_datetime', axis=1, inplace=True)"
      ]
    },
    {
      "cell_type": "code",
      "source": [
        "from datetime import datetime\n",
        "df_train.loc[:, 'pickup_datetime'] = \\\n",
        "  df_train.loc[:, 'pickup_datetime'].apply(lambda s: datetime.strptime(s, '%Y-%m-%d %H:%M:%S'))"
      ],
      "metadata": {
        "id": "Dx9VxDleSeFd"
      },
      "execution_count": 10,
      "outputs": []
    },
    {
      "cell_type": "markdown",
      "metadata": {
        "id": "zSQchwC5fxqa"
      },
      "source": [
        "В колонке `trip_duration` записано целевое значение, которое мы хотим предсказывать. Давайте посмотрим на распределение таргета в обучающей выборке. Для этого нарисуйте его гистограмму:"
      ]
    },
    {
      "cell_type": "code",
      "execution_count": 11,
      "metadata": {
        "id": "7RFchWqafxqb",
        "colab": {
          "base_uri": "https://localhost:8080/",
          "height": 435
        },
        "outputId": "548461d2-5902-4e7a-c676-8a94984022ea"
      },
      "outputs": [
        {
          "output_type": "execute_result",
          "data": {
            "text/plain": [
              "<matplotlib.axes._subplots.AxesSubplot at 0x7f4bce49b310>"
            ]
          },
          "metadata": {},
          "execution_count": 11
        },
        {
          "output_type": "display_data",
          "data": {
            "text/plain": [
              "<Figure size 648x432 with 1 Axes>"
            ],
            "image/png": "[encoded data removed]"
          },
          "metadata": {}
        }
      ],
      "source": [
        "#╰( ͡° ͜ʖ ͡° )つ──☆*:・ﾟ\n",
        "fig, axes = plt.subplots(figsize=(9, 6))\n",
        "axes.set_title('Distribution of trip_duration', fontsize=15)\n",
        "sns.histplot(data=df_train['trip_duration'], ax=axes, bins=100, log_scale=True, kde=True)"
      ]
    },
    {
      "cell_type": "markdown",
      "metadata": {
        "id": "ik52H3Vlfxqb"
      },
      "source": [
        "**Вопрос**: Что можно сказать о целевой переменной по гистограмме её значений?"
      ]
    },
    {
      "cell_type": "markdown",
      "source": [
        "***У нас есть палочка выбросов порядка 10^5 секунд, то есть примерно 28 часов. Судя по всему, это баги системы либо недочёты таксистов, в любом случае их лучше будет выкинуть. Ещё стоит отмести небольшое количество поездок по несколько секунд.***\n",
        "\n",
        "***Судя по графику, мы можем говорить о логнормальном распределнии нашей trip_duration.***"
      ],
      "metadata": {
        "id": "9qQqyaNXZlxk"
      }
    },
    {
      "cell_type": "markdown",
      "metadata": {
        "id": "IdL4nObsfxqb"
      },
      "source": [
        "В соревновании в качестве метрики качества использовалось RMSLE:\n",
        "$$\\text{RMSLE}(X, y, a) = \\sqrt{\\frac{1}{\\ell}\\sum_{i=1}^{\\ell} \\big(\\log{(y_i + 1)} - \\log{(a(x_i) + 1)}\\big)^2}$$\n",
        "\n",
        "**Вопрос**: Как вы думаете, почему авторы соревнования выбрали именно RMSLE, а не RMSE?"
      ]
    },
    {
      "cell_type": "markdown",
      "source": [
        "***В MSLE мы штрафуем за порядковые отклонения.***\n",
        "\n",
        "***Логично использовать её, раз у нашей целевой переменной лог-нормальное распределение.***"
      ],
      "metadata": {
        "id": "zUcZOtaihpca"
      }
    },
    {
      "cell_type": "markdown",
      "metadata": {
        "id": "JrqIKoSWfxqc"
      },
      "source": [
        "На семинаре мы рассматривали несколько моделей линейной регрессии в `sklearn`, но каждая из них оптимизировала среднеквадратичную ошибку (MSE), а не RMSLE. Давайте проделаем следующий трюк: будем предсказывать не целевую переменную, а ее *логарифм*. Обозначим $\\hat{y}_i = \\log{(y_i + 1)}$ — модифицированный таргет, а $\\hat{a}(x_i)$ — предсказание модели, которая обучалась на $\\hat{y}_i$, то есть логарифм таргета. Чтобы предсказать исходное значение, мы можем просто взять экспоненту от нашего предсказания: $a(x_i) = \\exp(\\hat{a}(x_i)) - 1$.\n",
        "\n",
        "**Вопрос**: Покажите, что оптимизация RMSLE для модели $a$ эквивалентна оптимизации MSE для модели $\\hat{a}$.\n",
        "\n",
        "**Доказательство**: ╰( ͡° ͜ʖ ͡° )つ──☆*:・ﾟ\n",
        "\n",
        "Итак, мы смогли свести задачу оптимизации RMSLE к задаче оптимизации MSE, которую мы умеем решать! Кроме того, у логарифмирования таргета есть еще одно полезное свойство. Чтобы его увидеть, добавьте к нашей выборке колонку `log_trip_duration` (воспользуйтесь `np.log1p`) и нарисуйте гистограмму модифицированного таргета по обучающей выборке. Удалите колонку со старым таргетом."
      ]
    },
    {
      "cell_type": "code",
      "execution_count": 12,
      "metadata": {
        "id": "nGCNRU43fxqe"
      },
      "outputs": [],
      "source": [
        "#╰( ͡° ͜ʖ ͡° )つ──☆*:・ﾟ\n",
        "df_train['log_trip_duration'] = np.log1p(df_train['trip_duration'])"
      ]
    },
    {
      "cell_type": "code",
      "source": [
        "fig, axes = plt.subplots(figsize=(9, 6))\n",
        "axes.set_title('Distribution of log_trip_duration', fontsize=15)\n",
        "sns.histplot(data=df_train['log_trip_duration'], ax=axes, bins=100, kde=True)"
      ],
      "metadata": {
        "colab": {
          "base_uri": "https://localhost:8080/",
          "height": 429
        },
        "id": "nn6e1OMZWLvE",
        "outputId": "cefc385f-0414-43b8-fc78-a10ff1010be4"
      },
      "execution_count": 13,
      "outputs": [
        {
          "output_type": "execute_result",
          "data": {
            "text/plain": [
              "<matplotlib.axes._subplots.AxesSubplot at 0x7f4bce0d6f50>"
            ]
          },
          "metadata": {},
          "execution_count": 13
        },
        {
          "output_type": "display_data",
          "data": {
            "text/plain": [
              "<Figure size 648x432 with 1 Axes>"
            ],
            "image/png": "[encoded data removed]"
          },
          "metadata": {}
        }
      ]
    },
    {
      "cell_type": "code",
      "source": [
        "df_train.drop(labels='trip_duration', axis=1, inplace=True)"
      ],
      "metadata": {
        "id": "_o5o-tE9WZLP"
      },
      "execution_count": 14,
      "outputs": []
    },
    {
      "cell_type": "markdown",
      "metadata": {
        "id": "3o7WNj0kfxqe"
      },
      "source": [
        "Чтобы иметь некоторую точку отсчета, давайте посчитаем значение метрики при наилучшем константном предсказании:"
      ]
    },
    {
      "cell_type": "code",
      "execution_count": 15,
      "metadata": {
        "id": "3jcdEJw9fxqe"
      },
      "outputs": [],
      "source": [
        "#╰( ͡° ͜ʖ ͡° )つ──☆*:・ﾟ\n",
        "def MSLE(y, y_pred):\n",
        "  assert len(y) == len(y_pred), 'y and y_pred must have the same size'\n",
        "  return np.sqrt(sum((np.log(y[i] + 1) - np.log(y_pred[i] + 1)) ** 2 for i in range(len(y))))"
      ]
    },
    {
      "cell_type": "code",
      "source": [
        "best_const_pred = df_train['log_trip_duration'].mean()\n",
        "print('Best constant predict:', best_const_pred)\n",
        "print('Having MSLE:', MSLE(df_train['log_trip_duration'], \n",
        "                           pd.Series([best_const_pred for i in range(df_train.shape[0])])))"
      ],
      "metadata": {
        "colab": {
          "base_uri": "https://localhost:8080/"
        },
        "id": "p_HP-JRlXc3A",
        "outputId": "5f53e8d9-3a0d-4983-c52c-09c24bc91e04"
      },
      "execution_count": 16,
      "outputs": [
        {
          "output_type": "stream",
          "name": "stdout",
          "text": [
            "Best constant predict: 6.466978409297406\n",
            "Having MSLE: 136.89180073812372\n"
          ]
        }
      ]
    },
    {
      "cell_type": "code",
      "source": [
        "print('Other predict, for instance:', 7.0)\n",
        "print('Having MSLE:', MSLE(df_train['log_trip_duration'], \n",
        "                           pd.Series([7.0 for i in range(df_train.shape[0])])))"
      ],
      "metadata": {
        "colab": {
          "base_uri": "https://localhost:8080/"
        },
        "id": "JUqKB3WLYiYX",
        "outputId": "28b2cd56-4288-4cac-ad24-27a1b15351e4"
      },
      "execution_count": 17,
      "outputs": [
        {
          "output_type": "stream",
          "name": "stdout",
          "text": [
            "Other predict, for instance: 7.0\n",
            "Having MSLE: 164.00708099325013\n"
          ]
        }
      ]
    },
    {
      "cell_type": "markdown",
      "metadata": {
        "id": "tBA5Egarfxqf"
      },
      "source": [
        "## Часть 1. Изучаем `pickup_datetime` (2 балла)\n",
        "\n",
        "**Задание 2 (0.25 баллов)**. Для начала давайте посмотрим, сколько всего было поездок в каждый из дней. Постройте график зависимости количества поездок от дня в году (например, можно воспользоваться `sns.countplot`):"
      ]
    },
    {
      "cell_type": "code",
      "source": [
        "#╰( ͡° ͜ʖ ͡° )つ──☆*:・ﾟ\n",
        "import matplotlib.ticker as ticker\n",
        "plt.rcParams['savefig.format'] = 'pdf'\n",
        "sns.set_style('darkgrid')"
      ],
      "metadata": {
        "id": "TL1lc3nvaw7W"
      },
      "execution_count": 18,
      "outputs": []
    },
    {
      "cell_type": "code",
      "source": [
        "df_train['pickup_datetime'].agg(['min', 'max'])"
      ],
      "metadata": {
        "colab": {
          "base_uri": "https://localhost:8080/"
        },
        "id": "KmY3N76ymnjj",
        "outputId": "577b4e2f-4b0e-420c-be82-8a0f1f49def4"
      },
      "execution_count": 19,
      "outputs": [
        {
          "output_type": "execute_result",
          "data": {
            "text/plain": [
              "min   2016-01-01 00:00:17\n",
              "max   2016-06-30 23:59:39\n",
              "Name: pickup_datetime, dtype: datetime64[ns]"
            ]
          },
          "metadata": {},
          "execution_count": 19
        }
      ]
    },
    {
      "cell_type": "code",
      "execution_count": 20,
      "metadata": {
        "id": "IBqU_6v6fxqf",
        "colab": {
          "base_uri": "https://localhost:8080/",
          "height": 454
        },
        "outputId": "1bf55dd0-1c0d-410f-ae32-681a94abdcee"
      },
      "outputs": [
        {
          "output_type": "execute_result",
          "data": {
            "text/plain": [
              "<matplotlib.axes._subplots.AxesSubplot at 0x7f4bca6afa10>"
            ]
          },
          "metadata": {},
          "execution_count": 20
        },
        {
          "output_type": "display_data",
          "data": {
            "text/plain": [
              "<Figure size 1152x576 with 1 Axes>"
            ],
            "image/png": "[encoded data removed]"
          },
          "metadata": {}
        }
      ],
      "source": [
        "fig, axes = plt.subplots(figsize=(16, 8))\n",
        "axes.set_title('Number of trips per day', fontsize=15)\n",
        "g = sns.countplot(x=df_train['pickup_datetime'].dt.strftime('%j'), ax=axes, color='cornflowerblue')\n",
        "g.set(xticklabels=[])\n",
        "axes.xaxis.set_major_formatter(ticker.FormatStrFormatter('%d'))\n",
        "axes.xaxis.set_major_locator(ticker.MultipleLocator(base=20))\n",
        "g"
      ]
    },
    {
      "cell_type": "markdown",
      "metadata": {
        "id": "pZrNcAVqfxqg"
      },
      "source": [
        "**Вопрос**: Вы, вероятно, заметили, что на графике есть 2 периода с аномально маленькими количествами поездок. Вычислите, в какие даты происходили эти скачки вниз и найдите информацию о том, что происходило в эти дни в Нью-Йорке.\n",
        "\n",
        "Нарисуйте графики зависимости количества поездок от дня недели и от часов в сутках (воспользуйтесь `sns.relplot`):"
      ]
    },
    {
      "cell_type": "code",
      "source": [
        "df_train_by_days = df_train.copy()\n",
        "df_train_by_days.loc[:,'pickup_datetime'] = df_train_by_days['pickup_datetime'].dt.strftime('%Y-%m-%d')\n",
        "df_train_grouped_by_days = df_train_by_days[['id', 'pickup_datetime']].groupby('pickup_datetime').count()\n",
        "df_train_grouped_by_days.loc[df_train_grouped_by_days['id'] < 4000]"
      ],
      "metadata": {
        "colab": {
          "base_uri": "https://localhost:8080/",
          "height": 143
        },
        "id": "SArWzgGDnOpb",
        "outputId": "878aba4d-50b1-4fa8-e3ea-3d9e9912c2b0"
      },
      "execution_count": 21,
      "outputs": [
        {
          "output_type": "execute_result",
          "data": {
            "text/plain": [
              "                   id\n",
              "pickup_datetime      \n",
              "2016-01-23       1648\n",
              "2016-01-24       3383"
            ],
            "text/html": [
              "\n",
              "  <div id=\"df-96c19032-76dd-471a-abb4-3c39af82f56a\">\n",
              "    <div class=\"colab-df-container\">\n",
              "      <div>\n",
              "<style scoped>\n",
              "    .dataframe tbody tr th:only-of-type {\n",
              "        vertical-align: middle;\n",
              "    }\n",
              "\n",
              "    .dataframe tbody tr th {\n",
              "        vertical-align: top;\n",
              "    }\n",
              "\n",
              "    .dataframe thead th {\n",
              "        text-align: right;\n",
              "    }\n",
              "</style>\n",
              "<table border=\"1\" class=\"dataframe\">\n",
              "  <thead>\n",
              "    <tr style=\"text-align: right;\">\n",
              "      <th></th>\n",
              "      <th>id</th>\n",
              "    </tr>\n",
              "    <tr>\n",
              "      <th>pickup_datetime</th>\n",
              "      <th></th>\n",
              "    </tr>\n",
              "  </thead>\n",
              "  <tbody>\n",
              "    <tr>\n",
              "      <th>2016-01-23</th>\n",
              "      <td>1648</td>\n",
              "    </tr>\n",
              "    <tr>\n",
              "      <th>2016-01-24</th>\n",
              "      <td>3383</td>\n",
              "    </tr>\n",
              "  </tbody>\n",
              "</table>\n",
              "</div>\n",
              "      <button class=\"colab-df-convert\" onclick=\"convertToInteractive('df-96c19032-76dd-471a-abb4-3c39af82f56a')\"\n",
              "              title=\"Convert this dataframe to an interactive table.\"\n",
              "              style=\"display:none;\">\n",
              "        \n",
              "  <svg xmlns=\"http://www.w3.org/2000/svg\" height=\"24px\"viewBox=\"0 0 24 24\"\n",
              "       width=\"24px\">\n",
              "    <path d=\"M0 0h24v24H0V0z\" fill=\"none\"/>\n",
              "    <path d=\"M18.56 5.44l.94 2.06.94-2.06 2.06-.94-2.06-.94-.94-2.06-.94 2.06-2.06.94zm-11 1L8.5 8.5l.94-2.06 2.06-.94-2.06-.94L8.5 2.5l-.94 2.06-2.06.94zm10 10l.94 2.06.94-2.06 2.06-.94-2.06-.94-.94-2.06-.94 2.06-2.06.94z\"/><path d=\"M17.41 7.96l-1.37-1.37c-.4-.4-.92-.59-1.43-.59-.52 0-1.04.2-1.43.59L10.3 9.45l-7.72 7.72c-.78.78-.78 2.05 0 2.83L4 21.41c.39.39.9.59 1.41.59.51 0 1.02-.2 1.41-.59l7.78-7.78 2.81-2.81c.8-.78.8-2.07 0-2.86zM5.41 20L4 18.59l7.72-7.72 1.47 1.35L5.41 20z\"/>\n",
              "  </svg>\n",
              "      </button>\n",
              "      \n",
              "  <style>\n",
              "    .colab-df-container {\n",
              "      display:flex;\n",
              "      flex-wrap:wrap;\n",
              "      gap: 12px;\n",
              "    }\n",
              "\n",
              "    .colab-df-convert {\n",
              "      background-color: #E8F0FE;\n",
              "      border: none;\n",
              "      border-radius: 50%;\n",
              "      cursor: pointer;\n",
              "      display: none;\n",
              "      fill: #1967D2;\n",
              "      height: 32px;\n",
              "      padding: 0 0 0 0;\n",
              "      width: 32px;\n",
              "    }\n",
              "\n",
              "    .colab-df-convert:hover {\n",
              "      background-color: #E2EBFA;\n",
              "      box-shadow: 0px 1px 2px rgba(60, 64, 67, 0.3), 0px 1px 3px 1px rgba(60, 64, 67, 0.15);\n",
              "      fill: #174EA6;\n",
              "    }\n",
              "\n",
              "    [theme=dark] .colab-df-convert {\n",
              "      background-color: #3B4455;\n",
              "      fill: #D2E3FC;\n",
              "    }\n",
              "\n",
              "    [theme=dark] .colab-df-convert:hover {\n",
              "      background-color: #434B5C;\n",
              "      box-shadow: 0px 1px 3px 1px rgba(0, 0, 0, 0.15);\n",
              "      filter: drop-shadow(0px 1px 2px rgba(0, 0, 0, 0.3));\n",
              "      fill: #FFFFFF;\n",
              "    }\n",
              "  </style>\n",
              "\n",
              "      <script>\n",
              "        const buttonEl =\n",
              "          document.querySelector('#df-96c19032-76dd-471a-abb4-3c39af82f56a button.colab-df-convert');\n",
              "        buttonEl.style.display =\n",
              "          google.colab.kernel.accessAllowed ? 'block' : 'none';\n",
              "\n",
              "        async function convertToInteractive(key) {\n",
              "          const element = document.querySelector('#df-96c19032-76dd-471a-abb4-3c39af82f56a');\n",
              "          const dataTable =\n",
              "            await google.colab.kernel.invokeFunction('convertToInteractive',\n",
              "                                                     [key], {});\n",
              "          if (!dataTable) return;\n",
              "\n",
              "          const docLinkHtml = 'Like what you see? Visit the ' +\n",
              "            '<a target=\"_blank\" href=https://colab.research.google.com/notebooks/data_table.ipynb>data table notebook</a>'\n",
              "            + ' to learn more about interactive tables.';\n",
              "          element.innerHTML = '';\n",
              "          dataTable['output_type'] = 'display_data';\n",
              "          await google.colab.output.renderOutput(dataTable, element);\n",
              "          const docLink = document.createElement('div');\n",
              "          docLink.innerHTML = docLinkHtml;\n",
              "          element.appendChild(docLink);\n",
              "        }\n",
              "      </script>\n",
              "    </div>\n",
              "  </div>\n",
              "  "
            ]
          },
          "metadata": {},
          "execution_count": 21
        }
      ]
    },
    {
      "cell_type": "code",
      "execution_count": 22,
      "metadata": {
        "id": "KQIUyMFGfxqg"
      },
      "outputs": [],
      "source": [
        "#╰( ͡° ͜ʖ ͡° )つ──☆*:・ﾟ\n"
      ]
    },
    {
      "cell_type": "markdown",
      "metadata": {
        "id": "Cl1OJcJifxqi"
      },
      "source": [
        "**Задание 3 (0.5 баллов)**. Нарисуйте на одном графике зависимости количества поездок от часа в сутках для разных месяцев (разные кривые, соответствующие разным месяцам, окрашивайте в разные цвета, воспользуйтесь `hue` в `sns.relplot`). Аналогично нарисуйте зависимости количества поездок от часа в сутках для разных дней недели."
      ]
    },
    {
      "cell_type": "code",
      "execution_count": 23,
      "metadata": {
        "id": "heOFLQPxfxqj"
      },
      "outputs": [],
      "source": [
        "#╰( ͡° ͜ʖ ͡° )つ──☆*:・ﾟ"
      ]
    },
    {
      "cell_type": "markdown",
      "metadata": {
        "id": "otkUvNQxfxqk"
      },
      "source": [
        "**Вопрос**: Какие выводы можно сделать, основываясь на графиках выше? Выделяются ли какие-нибудь дни недели? Месяца? Время суток? С чем это связано?\n",
        "\n",
        "**Задание 4 (0.5 баллов)**. Разбейте выборку на обучающую и тестовую в отношении 7:3. По обучающей выборке нарисуйте график зависимости среднего логарифма времени поездки от дня недели. Затем сделайте то же самое, но для часа в сутках и дня в году."
      ]
    },
    {
      "cell_type": "code",
      "execution_count": 24,
      "metadata": {
        "id": "u8Cm39cHfxqk"
      },
      "outputs": [],
      "source": [
        "#╰( ͡° ͜ʖ ͡° )つ──☆*:・ﾟ"
      ]
    },
    {
      "cell_type": "markdown",
      "metadata": {
        "id": "jJy0mQmYfxql"
      },
      "source": [
        "**Вопрос**: Похожи ли графики зависимости таргета от дня недели и от часа в сутках на аналогичные графики для количества поездок? Почему? Что происходит со средним таргетом в те два аномальных периода, что мы видели выше? Почему так происходит? Наблюдаете ли вы какой-нибудь тренд на графике зависимости `log_trip_duration` от номера дня в году?"
      ]
    },
    {
      "cell_type": "markdown",
      "metadata": {
        "id": "5rvToFNOfxql"
      },
      "source": [
        "Добавьте следующие признаки на основе `pickup_datetime`:\n",
        "1. День недели\n",
        "2. Месяц\n",
        "3. Час\n",
        "4. Является ли период аномальным (два бинарных признака, соответствующие двум аномальным периодам)\n",
        "5. Номер дня в году"
      ]
    },
    {
      "cell_type": "code",
      "execution_count": 25,
      "metadata": {
        "id": "hDsRDUbQfxqm"
      },
      "outputs": [],
      "source": [
        "#╰( ͡° ͜ʖ ͡° )つ──☆*:・ﾟ"
      ]
    },
    {
      "cell_type": "markdown",
      "metadata": {
        "id": "VFZbRy0Ofxqm"
      },
      "source": [
        "Итак, мы уже создали некоторое количество признаков.\n",
        "\n",
        "**Вопрос**: Какие из признаков стоит рассматривать как категориальные, а какие - как численные? Почему?"
      ]
    },
    {
      "cell_type": "markdown",
      "metadata": {
        "id": "ccEUF-3gfxqm"
      },
      "source": [
        "**Задание 5 (0.75 баллов)**. Обучите `Ridge`-регрессию с параметрами по умолчанию, закодировав все категориальные признаки с помощью `OneHotEncoder`. Численные признаки отмасштабируйте с помощью `StandardScaler`. Используйте только признаки, которые мы выделили в этой части задания."
      ]
    },
    {
      "cell_type": "code",
      "execution_count": 26,
      "metadata": {
        "id": "Zob0ge3nfxqm"
      },
      "outputs": [],
      "source": [
        "#╰( ͡° ͜ʖ ͡° )つ──☆*:・ﾟ"
      ]
    },
    {
      "cell_type": "markdown",
      "metadata": {
        "id": "SlKOumHyfxqn"
      },
      "source": [
        "## Часть 2. Изучаем координаты (3 балла)\n",
        "Мы уже очень хорошо изучили данные о времени начала поездки, давайте теперь посмотрим на информацию о координатах начала и конца поездки. Мы подготовили для вас функцию, которая на карте рисует точки начала или конца поездки. Примеры ее вызова вы найдете ниже. Обратите внимание, что в эту функцию мы передаем лишь небольшой кусочек данных, посколько иначе функция будет работать очень долго"
      ]
    },
    {
      "cell_type": "code",
      "execution_count": 27,
      "metadata": {
        "id": "ZoWft3hCfxqn"
      },
      "outputs": [],
      "source": [
        "def show_circles_on_map(data, latitude_column, longitude_column, color):\n",
        "    \"\"\"\n",
        "    The function draws map with circles on it.\n",
        "    The center of the map is the mean of coordinates passed in data.\n",
        "    \n",
        "    data: DataFrame that contains columns latitude_column and longitude_column\n",
        "    latitude_column: string, the name of column for latitude coordinates\n",
        "    longitude_column: string, the name of column for longitude coordinates\n",
        "    color: string, the color of circles to be drawn\n",
        "    \"\"\"\n",
        "\n",
        "    location = (data[latitude_column].mean(), data[longitude_column].mean())\n",
        "    m = folium.Map(location=location)\n",
        "\n",
        "    for _, row in data.iterrows():\n",
        "        folium.Circle(\n",
        "            radius=100,\n",
        "            location=(row[latitude_column], row[longitude_column]),\n",
        "            color=color,\n",
        "            fill_color=color,\n",
        "            fill=True\n",
        "        ).add_to(m)\n",
        "\n",
        "    return m"
      ]
    },
    {
      "cell_type": "code",
      "execution_count": 28,
      "metadata": {
        "ExecuteTime": {
          "end_time": "2020-09-26T17:05:15.969248Z",
          "start_time": "2020-09-26T17:05:15.334200Z"
        },
        "id": "87HfGa-Dfxqo",
        "colab": {
          "base_uri": "https://localhost:8080/",
          "height": 169
        },
        "outputId": "72f853db-b682-4573-f816-e6f45ff02a52"
      },
      "outputs": [
        {
          "output_type": "error",
          "ename": "NameError",
          "evalue": "ignored",
          "traceback": [
            "\u001b[0;31m---------------------------------------------------------------------------\u001b[0m",
            "\u001b[0;31mNameError\u001b[0m                                 Traceback (most recent call last)",
            "\u001b[0;32m<ipython-input-28-090b82d2f2d4>\u001b[0m in \u001b[0;36m<module>\u001b[0;34m\u001b[0m\n\u001b[0;32m----> 1\u001b[0;31m \u001b[0mshow_circles_on_map\u001b[0m\u001b[0;34m(\u001b[0m\u001b[0mdf\u001b[0m\u001b[0;34m.\u001b[0m\u001b[0msample\u001b[0m\u001b[0;34m(\u001b[0m\u001b[0;36m1000\u001b[0m\u001b[0;34m)\u001b[0m\u001b[0;34m,\u001b[0m \u001b[0;34m\"pickup_latitude\"\u001b[0m\u001b[0;34m,\u001b[0m \u001b[0;34m\"pickup_longitude\"\u001b[0m\u001b[0;34m,\u001b[0m \u001b[0;34m\"blue\"\u001b[0m\u001b[0;34m)\u001b[0m\u001b[0;34m\u001b[0m\u001b[0;34m\u001b[0m\u001b[0m\n\u001b[0m",
            "\u001b[0;31mNameError\u001b[0m: name 'df' is not defined"
          ]
        }
      ],
      "source": [
        "show_circles_on_map(df.sample(1000), \"pickup_latitude\", \"pickup_longitude\", \"blue\")"
      ]
    },
    {
      "cell_type": "code",
      "execution_count": null,
      "metadata": {
        "ExecuteTime": {
          "end_time": "2020-09-26T17:05:16.699973Z",
          "start_time": "2020-09-26T17:05:16.026291Z"
        },
        "id": "e6VltotWfxqp"
      },
      "outputs": [],
      "source": [
        "show_circles_on_map(df.sample(1000), \"dropoff_latitude\", \"dropoff_longitude\", \"blue\")"
      ]
    },
    {
      "cell_type": "markdown",
      "metadata": {
        "id": "nOKljCnmfxqp"
      },
      "source": [
        "**Вопрос**: Какие две точки выделяются на карте?"
      ]
    },
    {
      "cell_type": "markdown",
      "metadata": {
        "id": "GC6kyGZxfxqp"
      },
      "source": [
        "**Задание 6 (0.75 балл)**. Как мы все прекрасно помним, $t = s / v_{\\text{ср}}$, поэтому очевидно, что самым сильным признаком будет расстояние, которое необходимо проехать. Мы не можем посчитать точное расстояние, которое необходимо преодолеть такси, но мы можем его оценить, посчитав кратчайшее расстояние между точками начала и конца поездки. Чтобы корректно посчитать расстояние между двумя точками на Земле, можно использовать функцию `haversine`. Также можно воспользоваться кодом с первого семинара. Посчитайте кратчайшее расстояние для объектов и запишите его в колонку `haversine`:"
      ]
    },
    {
      "cell_type": "code",
      "execution_count": null,
      "metadata": {
        "id": "wa8tIIGsfxqp"
      },
      "outputs": [],
      "source": [
        "#╰( ͡° ͜ʖ ͡° )つ──☆*:・ﾟ"
      ]
    },
    {
      "cell_type": "markdown",
      "metadata": {
        "id": "43aq0kNyfxqp"
      },
      "source": [
        "Так как мы предсказываем логарифм времени поездки и хотим, чтобы наши признаки были линейно зависимы с этой целевой переменной, нам нужно логарифмировать расстояние: $\\log t = \\log s - \\log{v_{\\text{ср}}}$. Запишите логарифм `haversine` в отдельную колонку:"
      ]
    },
    {
      "cell_type": "code",
      "execution_count": null,
      "metadata": {
        "id": "DRC2dQIEfxqq"
      },
      "outputs": [],
      "source": [
        "#╰( ͡° ͜ʖ ͡° )つ──☆*:・ﾟ"
      ]
    },
    {
      "cell_type": "markdown",
      "metadata": {
        "id": "Lgi34mxvfxqq"
      },
      "source": [
        "Убедимся, что логарифм расстояния лучше коррелирует с нашим таргетом, чем просто расстояние:"
      ]
    },
    {
      "cell_type": "code",
      "execution_count": null,
      "metadata": {
        "id": "JBc6Fdv_fxqq"
      },
      "outputs": [],
      "source": [
        "#╰( ͡° ͜ʖ ͡° )つ──☆*:・ﾟ"
      ]
    },
    {
      "cell_type": "markdown",
      "metadata": {
        "id": "CVYU5IMifxqq"
      },
      "source": [
        "**Задание 7 (0.75 балла)**. Давайте изучим среднюю скорость движения такси. Посчитайте среднюю скорость для каждого объекта обучающей выборки, разделив `haversine` на `trip_duration`, и нарисуйте гистограмму ее распределения"
      ]
    },
    {
      "cell_type": "code",
      "execution_count": null,
      "metadata": {
        "id": "-Itb5_Crfxqq"
      },
      "outputs": [],
      "source": [
        "#╰( ͡° ͜ʖ ͡° )つ──☆*:・ﾟ"
      ]
    },
    {
      "cell_type": "markdown",
      "metadata": {
        "id": "UFKZq1z4fxqr"
      },
      "source": [
        "Как можно видеть по гистограмме, для некоторых объектов у нас получились очень больше значения скоростей. Нарисуйте гистограмму по объектам, для которых значение скорости получилось разумным (например, можно не включать рассмотрение объекты, где скорость больше некоторой квантили):"
      ]
    },
    {
      "cell_type": "code",
      "execution_count": null,
      "metadata": {
        "id": "48ZRZjyrfxqs"
      },
      "outputs": [],
      "source": [
        "#╰( ͡° ͜ʖ ͡° )つ──☆*:・ﾟ"
      ]
    },
    {
      "cell_type": "markdown",
      "metadata": {
        "id": "IIHhvTztfxqs"
      },
      "source": [
        "Для каждой пары (день недели, час суток) посчитайте медиану скоростей. Нарисуйте с помощью `sns.heatmap` график, где по осям будут дни недели и часы, а в качестве значения функции - медиана скорости"
      ]
    },
    {
      "cell_type": "code",
      "execution_count": null,
      "metadata": {
        "id": "gN2uE15xfxqt"
      },
      "outputs": [],
      "source": [
        "#╰( ͡° ͜ʖ ͡° )つ──☆*:・ﾟ"
      ]
    },
    {
      "cell_type": "markdown",
      "metadata": {
        "id": "W3K4EpIgfxqt"
      },
      "source": [
        "Не забудьте удалить колонку со значением скорости из данных!\n",
        "\n",
        "**Вопрос**: Почему значение скорости нельзя использовать во время обучения?"
      ]
    },
    {
      "cell_type": "code",
      "execution_count": null,
      "metadata": {
        "id": "aqoVJO_ifxqu"
      },
      "outputs": [],
      "source": [
        "#╰( ͡° ͜ʖ ͡° )つ──☆*:・ﾟ"
      ]
    },
    {
      "cell_type": "markdown",
      "metadata": {
        "id": "8DAE2UGLfxqv"
      },
      "source": [
        "**Вопрос**: Посмотрите внимательно на график и скажите, в какие моменты времени скорость минимальна; максимальна.\n",
        "\n",
        "Создайте признаки \"поездка совершается в период пробок\" и \"поездка совершается в период свободных дорог\" (естественно, они не должен зависеть от скорости!):"
      ]
    },
    {
      "cell_type": "code",
      "execution_count": null,
      "metadata": {
        "id": "1lAMkBj2fxqw"
      },
      "outputs": [],
      "source": [
        "#╰( ͡° ͜ʖ ͡° )つ──☆*:・ﾟ"
      ]
    },
    {
      "cell_type": "markdown",
      "metadata": {
        "id": "cCGcIq-cfxqw"
      },
      "source": [
        "**Задание 8 (0.25 балла)**. Как уже было замечено выше, на карте выделяются две точки вдали от Манхэттена. Для каждой из них добавьте в выборку два признака: началась ли поездка в ней и закончилась ли она в ней."
      ]
    },
    {
      "cell_type": "code",
      "execution_count": null,
      "metadata": {
        "id": "6V3bfZSufxqw"
      },
      "outputs": [],
      "source": [
        "#╰( ͡° ͜ʖ ͡° )つ──☆*:・ﾟ"
      ]
    },
    {
      "cell_type": "markdown",
      "metadata": {
        "id": "F-MRwq7Vfxqw"
      },
      "source": [
        "Для каждого из созданных признаков нарисуйте \"ящик с усами\" (`sns.boxplot`) распределения логарифма времени поездки"
      ]
    },
    {
      "cell_type": "code",
      "execution_count": null,
      "metadata": {
        "id": "f5mFiQbsfxqw"
      },
      "outputs": [],
      "source": [
        "#╰( ͡° ͜ʖ ͡° )つ──☆*:・ﾟ"
      ]
    },
    {
      "cell_type": "markdown",
      "metadata": {
        "id": "JtL13fCDfxqx"
      },
      "source": [
        "**Вопрос**: судя по графикам, как вы думаете, хорошими ли получились эти признаки?"
      ]
    },
    {
      "cell_type": "markdown",
      "metadata": {
        "id": "u9EQVbxzfxqx"
      },
      "source": [
        "<img src=\"https://www.dropbox.com/s/xson9nukz5hba7c/map.png?raw=1\" align=\"right\" width=\"20%\" style=\"margin-left: 20px; margin-bottom: 20px\">\n",
        "\n",
        "**Задание 9 (1 балл)**. Сейчас мы почти что не используем сами значения координат. На это есть несколько причин: по отдельности рассматривать широту и долготу не имеет особого смысла, стоит рассматривать их вместе. Во-вторых, понятно, что зависимость между нашим таргетом и координатами не линейная. Чтобы как-то использовать координаты, можно прибегнуть к следующему трюку: обрамим область с наибольшим количеством поездок прямоугольником (как на рисунке). Разобьем этот прямоугольник на ячейки. Каждой точке сопоставим номер ее ячейки, а тем точкам, что не попали ни в одну из ячеек, сопоставим значение -1.\n",
        "\n",
        "Напишите трансформер, который сначала разбивает показанную на рисунке область на ячейки, а затем создает два признака: номер ячейки, в которой началась поездка, и номер ячейки, в которой закончилась поездка. Количество строк и столбцов выберите самостоятельно.\n",
        "\n",
        "Обратите внимание, что все вычисления должны быть векторизованными, трансформер не должен модифицировать передаваемую ему выборку inplace, а все необходимые статистики (если они вдруг нужны) нужно считать только по обучающей выборке в методе `fit`:"
      ]
    },
    {
      "cell_type": "code",
      "execution_count": null,
      "metadata": {
        "id": "3P0Hl6sEfxqy"
      },
      "outputs": [],
      "source": [
        "from sklearn.base import BaseEstimator, TransformerMixin\n",
        "\n",
        "\n",
        "# TransformerMixin implements fit_transform for you,\n",
        "# applying your fit and transform consistently\n",
        "    \n",
        "class MapGridTransformer(BaseEstimator, TransformerMixin):\n",
        "    def __init__(self, ...):\n",
        "        # your code here\n",
        "        pass\n",
        "    \n",
        "    def show_map(self):\n",
        "        # you may want to visualize cells\n",
        "        pass\n",
        "    \n",
        "    def fit(self, X=None, y=None):\n",
        "        # your code here\n",
        "        return self\n",
        "\n",
        "    def transform(self, X, y=None):\n",
        "        # your code here\n",
        "        return X"
      ]
    },
    {
      "cell_type": "markdown",
      "metadata": {
        "id": "qy_wRwpzfxqy"
      },
      "source": [
        "**Задание 10 (0.25 балла)**. Обучите `Ridge`-регрессию со стандартными параметрами на признаках, которые мы выделили к текущему моменту. Категориальные признаки закодируйте через one-hot-кодирование, числовые признаки отмасштабируйте."
      ]
    },
    {
      "cell_type": "code",
      "execution_count": null,
      "metadata": {
        "id": "wAXnCccdfxqz"
      },
      "outputs": [],
      "source": [
        "#╰( ͡° ͜ʖ ͡° )つ──☆*:・ﾟ"
      ]
    },
    {
      "cell_type": "markdown",
      "metadata": {
        "id": "_-RMF5Lifxqz"
      },
      "source": [
        "## Часть 3. Изучаем оставшиеся признаки (1 балл)\n",
        "\n",
        "**Задание 11 (0.75 баллов)**. У нас осталось еще 3 признака, которые мы не исследовали: `vendor_id`, `passenger_count` и `store_and_fwd_flag`.\n",
        "\n",
        "**Вопрос**: Подумайте, почему каждый из этих признаков может быть потенциально полезным.\n",
        "\n",
        "Посчитайте, сколько есть уникальных значений у каждого из этих признаков:"
      ]
    },
    {
      "cell_type": "code",
      "execution_count": null,
      "metadata": {
        "id": "pywO36zefxqz"
      },
      "outputs": [],
      "source": [
        "#╰( ͡° ͜ʖ ͡° )つ──☆*:・ﾟ"
      ]
    },
    {
      "cell_type": "markdown",
      "metadata": {
        "id": "fuMpGh9Afxqz"
      },
      "source": [
        "Постройте \"ящики с усами\" распределений логарифма времени поездки в зависимости от значений каждого из признаков"
      ]
    },
    {
      "cell_type": "code",
      "execution_count": null,
      "metadata": {
        "id": "giuia9bwfxqz"
      },
      "outputs": [],
      "source": [
        "#╰( ͡° ͜ʖ ͡° )つ──☆*:・ﾟ"
      ]
    },
    {
      "cell_type": "markdown",
      "metadata": {
        "id": "Zs7kL1Ibfxq0"
      },
      "source": [
        "Переведите признаки `vendor_id` и `store_and_fwd_flag` в значения $\\{0;1\\}$"
      ]
    },
    {
      "cell_type": "code",
      "execution_count": null,
      "metadata": {
        "id": "rxfjJaKsfxq0"
      },
      "outputs": [],
      "source": [
        "#╰( ͡° ͜ʖ ͡° )つ──☆*:・ﾟ"
      ]
    },
    {
      "cell_type": "markdown",
      "metadata": {
        "id": "4uKW1C9Mfxq0"
      },
      "source": [
        "**Вопрос**: Основываясь на графиках выше, как вы думаете, будут ли эти признаки сильными?"
      ]
    },
    {
      "cell_type": "markdown",
      "metadata": {
        "id": "bZz1eXgkfxq1"
      },
      "source": [
        "**Задание 12 (0.25 баллов)**. Проверьте свои предположения, обучив модель в том числе и на этих трех признаках. Обучайте `Ridge`-регрессию со стандартными параметрами. Категориальные признаки закодируйте one-hot-кодированием, а численные отмасштабируйте."
      ]
    },
    {
      "cell_type": "code",
      "execution_count": null,
      "metadata": {
        "id": "OFiVZl0jfxq1"
      },
      "outputs": [],
      "source": [
        "#╰( ͡° ͜ʖ ͡° )つ──☆*:・ﾟ"
      ]
    },
    {
      "cell_type": "markdown",
      "metadata": {
        "id": "WZQ8LXLFfxq1"
      },
      "source": [
        "Если признаки не дали какого-то ощутимого улучшения метрики, их можно выбросить из данных."
      ]
    },
    {
      "cell_type": "markdown",
      "metadata": {
        "id": "2mdbaHtrfxq2"
      },
      "source": [
        "## Часть 4. Улучшаем модель (3 балла)"
      ]
    },
    {
      "cell_type": "markdown",
      "metadata": {
        "id": "6LlMDn9Ifxq3"
      },
      "source": [
        "**Задание 13 (1 балл)**. В наших данных есть нетипичные объекты: с аномально маленьким времени поездки, с очень большим пройденным расстоянием или очень большими остатками регрессии. В этом задании предлагается исключить такие объекты из обучающей выборки. Для этого нарисуйте гистограммы распределения упомянутых выше величин, выберите объекты, которые можно назвать выбросами, и очистите обучающую выборку от них.\n",
        "\n",
        "Отметим, что хотя эти объекты и выглядят как выбросы, в тестовой выборке тоже скорее всего будут объекты с такими же странными значениями целевой переменной и/или признаков. Поэтому, возможно, чистка обучающей выборки приведёт к ухудшению качества на тесте. Тем не менее, всё равно лучше удалять выбросы из обучения, чтобы модель получалась более разумной и интерпретируемой."
      ]
    },
    {
      "cell_type": "code",
      "execution_count": null,
      "metadata": {
        "id": "sr9eEP8Wfxq3"
      },
      "outputs": [],
      "source": [
        "#╰( ͡° ͜ʖ ͡° )つ──☆*:・ﾟ"
      ]
    },
    {
      "cell_type": "markdown",
      "metadata": {
        "id": "Qm2XaJGufxq3"
      },
      "source": [
        "Сейчас у нас очень много категориальных признаков. В категориальных признаках могут содержаться редкие категории, обычно это плохо: модель сильно переобучается на таких примерах. Попробуйте объединить редкие категории в одну. Естественно, делать это нужно только для действительно редких категорий."
      ]
    },
    {
      "cell_type": "code",
      "execution_count": null,
      "metadata": {
        "id": "foWl2Lk4fxq4"
      },
      "outputs": [],
      "source": [
        "#╰( ͡° ͜ʖ ͡° )つ──☆*:・ﾟ"
      ]
    },
    {
      "cell_type": "markdown",
      "metadata": {
        "id": "HFGk-Pi8fxq4"
      },
      "source": [
        "Обучите модель на очищенных данных и посчитайте качество на тестовой выборке."
      ]
    },
    {
      "cell_type": "markdown",
      "metadata": {
        "id": "C-ZuRG_Nfxq4"
      },
      "source": [
        "**Задание 14 (1 балл)**. После OneHot-кодирования количество признаков в нашем датасете сильно возрастает. Посчитайте колиество признаков до и после кодирования категориальных признаков."
      ]
    },
    {
      "cell_type": "code",
      "execution_count": null,
      "metadata": {
        "id": "Sggtdw6Bfxq5"
      },
      "outputs": [],
      "source": [
        "#╰( ͡° ͜ʖ ͡° )つ──☆*:・ﾟ"
      ]
    },
    {
      "cell_type": "markdown",
      "metadata": {
        "id": "-U6W2xT2fxq5"
      },
      "source": [
        "Попробуйте обучить не `Ridge`-, а `Lasso`-регрессию. Какой метод лучше?"
      ]
    },
    {
      "cell_type": "code",
      "execution_count": null,
      "metadata": {
        "id": "RP1fMfBDfxq5"
      },
      "outputs": [],
      "source": [
        "#╰( ͡° ͜ʖ ͡° )つ──☆*:・ﾟ"
      ]
    },
    {
      "cell_type": "markdown",
      "metadata": {
        "id": "6X32LMNvfxq6"
      },
      "source": [
        "Разбейте обучающую выборку на обучающую и валидационную в отношении 8:2. По валидационной выборке подберите оптимальные значения параметра регуляризации (по логарифмической сетке) для `Ridge` и `Lasso`, на тестовой выборке измерьте качество лучшей полученной модели."
      ]
    },
    {
      "cell_type": "code",
      "execution_count": null,
      "metadata": {
        "id": "o_einW2Mfxq6"
      },
      "outputs": [],
      "source": [
        "#╰( ͡° ͜ʖ ͡° )つ──☆*:・ﾟ"
      ]
    },
    {
      "cell_type": "markdown",
      "metadata": {
        "id": "d6KDMXtvfxq6"
      },
      "source": [
        "Для каждого перебранного `alpha` для Lasso посчитайте количество нулевых весов в модели и нарисуйте график зависимости его от `alpha`. Как сильно придётся потерять в качестве, если мы хотим с помощью Lasso избавиться хотя бы от половины признаков?"
      ]
    },
    {
      "cell_type": "code",
      "execution_count": null,
      "metadata": {
        "id": "z1h6siNAfxq6"
      },
      "outputs": [],
      "source": [
        "#╰( ͡° ͜ʖ ͡° )つ──☆*:・ﾟ"
      ]
    },
    {
      "cell_type": "markdown",
      "metadata": {
        "id": "2Bz2jLk1fxq6"
      },
      "source": [
        "<img src=\"https://www.dropbox.com/s/wp4jj0599np17lh/map_direction.png?raw=1\" width=\"20%\" align=\"right\" style=\"margin-left: 20px\">\n",
        "\n",
        "**Задание 15 (1 балл)**. Часто бывает полезным использовать взаимодействия признаков (feature interactions), то есть строить новые признаки на основе уже существующих. Выше мы разбили карту Манхэттена на ячейки и придумали признаки \"из какой ячейки началась поездка\" и \"в какой ячейке закончилась поездка\".\n",
        "\n",
        "Давайте попробуем сделать следующее: посчитаем, сколько раз встречается каждая возможная пара этих признаков в нашем датасете и выберем 100 самых частых пар. Закодируем поездки с этими частыми парами как категориальный признак, остальным объектам припишем -1. Получается, что мы закодировали, откуда и куда должно было ехать такси.\n",
        "\n",
        "Также можете придумать ещё какой-нибудь способ сделать признаки про маршрут. Если эти признаки будут давать хороший прирост в качестве, то за это могут быть даны дополнительные бонусные баллы.\n",
        "\n",
        "**Вопрос**: Почему такой признак потенциально полезный? Почему линейная модель не может самостоятельно \"вытащить\" эту информацию, ведь у нее в распоряжении есть признаки \"из какой ячейки началась поездка\" и \"в какой ячейке закончилась поездка\"?"
      ]
    },
    {
      "cell_type": "code",
      "execution_count": null,
      "metadata": {
        "id": "hjb331yefxq6"
      },
      "outputs": [],
      "source": [
        "#╰( ͡° ͜ʖ ͡° )つ──☆*:・ﾟ"
      ]
    },
    {
      "cell_type": "markdown",
      "metadata": {
        "id": "b3nr5W6Afxq7"
      },
      "source": [
        "Заново обучите модель (`Ridge`, если она дала более высокое качество в предыдущих экспериментах, и `Lasso` иначе) на новых даннных и посчитайте качество на тестовой выборке"
      ]
    },
    {
      "cell_type": "code",
      "execution_count": null,
      "metadata": {
        "id": "dobaRV2Afxq7"
      },
      "outputs": [],
      "source": [
        "#╰( ͡° ͜ʖ ͡° )つ──☆*:・ﾟ"
      ]
    },
    {
      "cell_type": "markdown",
      "metadata": {
        "id": "HH9_NOWqfxq7"
      },
      "source": [
        "**Задание 16 (бонус, 1 балл)**. Где, как не для нашей задачи, считать манхэттенское расстояние?\n",
        "\n",
        "**Вопрос**: Найдите, что такое манхэттенское расстояние и почему оно так называется. Как оно нам может помочь?\n",
        "\n",
        "Введите систему координат на нашей карте так, чтобы оси были параллельны улицам Манхэттена, и добавьте сначала в данные признак \"манхэттенское расстояние между пунктом отправления и пунктом назначения\", а затем и логарифм этого признака. Посчитайте корреляцию между вашим новыми признаком и таргетом; между `log_haversine` и таргетом. В каком случае корреляция больше?\n",
        "\n",
        "Нарисуйте карту, где покажете выбранные оси. Чтобы мы могли проверить вашу работу, просьба сделать скрин этой карты и приложить картинку (если мы откроем ваш ноутбук, виджеты отображаться не будут). "
      ]
    },
    {
      "cell_type": "code",
      "execution_count": null,
      "metadata": {
        "id": "bKXj9q7nfxq8"
      },
      "outputs": [],
      "source": [
        "#╰( ͡° ͜ʖ ͡° )つ──☆*:・ﾟ"
      ]
    },
    {
      "cell_type": "markdown",
      "metadata": {
        "id": "iKGCpyndfxq9"
      },
      "source": [
        "Заново обучите модель на новых даннных и посчитайте качество на тестовой выборке. Стало ли лучше? Объясните полученный результат."
      ]
    },
    {
      "cell_type": "code",
      "execution_count": null,
      "metadata": {
        "id": "XuOl10Ltfxq-"
      },
      "outputs": [],
      "source": [
        "#╰( ͡° ͜ʖ ͡° )つ──☆*:・ﾟ"
      ]
    },
    {
      "cell_type": "markdown",
      "metadata": {
        "id": "-PZq9YE3fxq-"
      },
      "source": [
        "**Задание 17 (бонус, 2 балла)**. Реализуйте трансформер, который строит разбиение карты по шестигранной решётке с помощью библиотеки [H3](https://github.com/uber/h3-py) и вычисляет признаки на основе такого разбиения.\n",
        "\n",
        "Признаки могут быть самые разные: расстояние между точкой старта и финиша, посчитанное в количестве шестиугольников; статистика по числу поездок и по их продолжительности в соседних шестиугольниках.\n",
        "\n",
        "Важно: производительность библиотеки существенно зависит от количества шестиугольников на карте (определяется параметром resolution). Подберите такое разрешение, при котором ваш код будет работать за приемлемое время.\n",
        "\n",
        "При построении признаков старайтесь не допустить утечки целевой переменной (подробнее про это можно почитать в материалах 1-го семинара) — в противном случае хорошего качества на тестовой выборке достичь не получится.\n",
        "\n",
        "Измерьте качество после добавления новых признаков. За улучшение функционала ошибки на каждые 0.005 на тестовой выборке будет даваться 0.5 бонусных балла. Можно получить до 2 бонусных баллов за это задание."
      ]
    },
    {
      "cell_type": "code",
      "execution_count": null,
      "metadata": {
        "id": "9KwrKIQYfxq-"
      },
      "outputs": [],
      "source": [
        "#╰( ͡° ͜ʖ ͡° )つ──☆*:・ﾟ"
      ]
    },
    {
      "cell_type": "markdown",
      "metadata": {
        "id": "teF3ZRoLfxq_"
      },
      "source": [
        "Вставьте картинку, описывающую ваш опыт выполнения этого ДЗ."
      ]
    },
    {
      "cell_type": "code",
      "execution_count": null,
      "metadata": {
        "id": "bz136oA3fxrA"
      },
      "outputs": [],
      "source": []
    }
  ],
  "metadata": {
    "kernelspec": {
      "display_name": "Python 3 (ipykernel)",
      "language": "python",
      "name": "python3"
    },
    "language_info": {
      "codemirror_mode": {
        "name": "ipython",
        "version": 3
      },
      "file_extension": ".py",
      "mimetype": "text/x-python",
      "name": "python",
      "nbconvert_exporter": "python",
      "pygments_lexer": "ipython3",
      "version": "3.8.10"
    },
    "colab": {
      "provenance": [],
      "collapsed_sections": [
        "SlKOumHyfxqn",
        "_-RMF5Lifxqz",
        "2mdbaHtrfxq2"
      ]
    }
  },
  "nbformat": 4,
  "nbformat_minor": 0
}